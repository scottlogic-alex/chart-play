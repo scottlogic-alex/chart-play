{
 "cells": [
  {
   "cell_type": "code",
   "execution_count": 24,
   "metadata": {},
   "outputs": [
    {
     "name": "stderr",
     "output_type": "stream",
     "text": [
      "/var/folders/hn/_fwb1slj4wv_gg_k39xyn_g80000gn/T/ipykernel_96107/1641874837.py:19: UserWarning: Matplotlib is currently using module://matplotlib_inline.backend_inline, which is a non-GUI backend, so cannot show the figure.\n",
      "  fig.show()\n"
     ]
    },
    {
     "data": {
      "image/png": "[encoded data removed]",
      "text/plain": [
       "<Figure size 200x200 with 1 Axes>"
      ]
     },
     "metadata": {},
     "output_type": "display_data"
    }
   ],
   "source": [
    "import matplotlib.pyplot as plt\n",
    "import numpy as np\n",
    "plt.style.use('_mpl-gallery')\n",
    "\n",
    "# make data:\n",
    "x = 0.5 + np.arange(8)\n",
    "y = [4.8, 5.5, 3.5, 4.6, 6.5, 6.6, 2.6, 3.0]\n",
    "\n",
    "# plot\n",
    "fig, ax = plt.subplots(tight_layout=True)\n",
    "\n",
    "ax.bar(x, y, width=1, edgecolor=\"white\", linewidth=0.7)\n",
    "\n",
    "ax.set(xlim=(0, 8), xticks=np.arange(1, 8),\n",
    "       ylim=(0, 8), yticks=np.arange(1, 8))\n",
    "\n",
    "fig.show()"
   ]
  },
  {
   "cell_type": "code",
   "execution_count": 23,
   "metadata": {},
   "outputs": [],
   "source": [
    "# plt.figure\n",
    "# https://matplotlib.org/stable/api/_as_gen/matplotlib.pyplot.savefig.html\n",
    "fig.savefig('../out/fig0.svg')"
   ]
  }
 ],
 "metadata": {
  "kernelspec": {
   "display_name": "p311",
   "language": "python",
   "name": "python3"
  },
  "language_info": {
   "codemirror_mode": {
    "name": "ipython",
    "version": 3
   },
   "file_extension": ".py",
   "mimetype": "text/x-python",
   "name": "python",
   "nbconvert_exporter": "python",
   "pygments_lexer": "ipython3",
   "version": "3.11.0"
  },
  "orig_nbformat": 4
 },
 "nbformat": 4,
 "nbformat_minor": 2
}
